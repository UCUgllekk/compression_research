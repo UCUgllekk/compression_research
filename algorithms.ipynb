{
 "cells": [
  {
   "cell_type": "markdown",
   "metadata": {},
   "source": [
    "# Compression algorithms"
   ]
  },
  {
   "cell_type": "markdown",
   "metadata": {},
   "source": [
    "### Huffman:"
   ]
  },
  {
   "cell_type": "code",
   "execution_count": 55,
   "metadata": {},
   "outputs": [],
   "source": [
    "def huffman(data):\n",
    "    ..."
   ]
  },
  {
   "cell_type": "markdown",
   "metadata": {},
   "source": [
    "### LZ77 / LZ78"
   ]
  },
  {
   "cell_type": "code",
   "execution_count": 56,
   "metadata": {},
   "outputs": [],
   "source": [
    "def lz77(data):\n",
    "    ...\n",
    "\n",
    "#or\n",
    "\n",
    "def lz78(data):\n",
    "    ..."
   ]
  },
  {
   "cell_type": "markdown",
   "metadata": {},
   "source": [
    "### LZW"
   ]
  },
  {
   "cell_type": "code",
   "execution_count": 57,
   "metadata": {},
   "outputs": [],
   "source": [
    "class LZW:\n",
    "    name = 'lzw'\n",
    "    @staticmethod\n",
    "    def encoding(data: bytes) -> list:\n",
    "        '''LZW encoding'''\n",
    "        output = []\n",
    "        w = b''\n",
    "        dictionary = {bytes([i]): i for i in range(256)}\n",
    "        for byte in data:\n",
    "            byte = bytes([byte])\n",
    "            wc = w + byte\n",
    "            if wc in dictionary:\n",
    "                w = wc\n",
    "            else:\n",
    "                output.append(dictionary[w])\n",
    "                dictionary[wc] = len(dictionary)\n",
    "                w = byte\n",
    "        if w:\n",
    "            output.append(dictionary[w])\n",
    "        return output\n",
    "\n",
    "    @staticmethod\n",
    "    def decoding(code: list) -> bytes:\n",
    "        '''LZW decoding'''\n",
    "        coding_dict = {i:bytes([i]) for i in range(256)}\n",
    "        string = coding_dict[code[0]]\n",
    "        output = bytearray()\n",
    "        output += string\n",
    "        for i in range(1, len(code)):\n",
    "            new = code[i]\n",
    "            if new not in coding_dict:\n",
    "                entry = string + string[:1]\n",
    "            else:\n",
    "                entry = coding_dict[new]\n",
    "            output += entry\n",
    "            coding_dict[len(coding_dict)] = string + entry[:1]\n",
    "            string = entry\n",
    "        return bytes(output)\n",
    "\n",
    "    @staticmethod\n",
    "    def compress(path:str):\n",
    "        with open(path, 'rb') as file:\n",
    "            data = file.read()\n",
    "        encoded_data = LZW.encoding(data)\n",
    "        file_type = path.split('.')[-1]\n",
    "        file_path = '.'.join(path.split('.')[:-1])+'.'+ LZW.name.lower()\n",
    "        with open(file_path, 'wb') as file:\n",
    "            for value in encoded_data:\n",
    "                file.write(value.to_bytes(3, byteorder='little'))\n",
    "        return file_path, file_type\n",
    "\n",
    "    @staticmethod\n",
    "    def decompress(path:str, file_type:str):\n",
    "        with open(path, 'rb') as file:\n",
    "            encoded_data = []\n",
    "            while (byte := file.read(3)):\n",
    "                encoded_data.append(int.from_bytes(byte, byteorder='little'))\n",
    "        decoded = LZW.decoding(encoded_data)\n",
    "        file_path = '.'.join(path.split('.')[:-1])+'_decoded.'+ file_type\n",
    "        with open(file_path, 'wb') as file:\n",
    "            file.write(decoded)"
   ]
  },
  {
   "cell_type": "markdown",
   "metadata": {},
   "source": [
    "### Deflate"
   ]
  },
  {
   "cell_type": "code",
   "execution_count": 58,
   "metadata": {},
   "outputs": [],
   "source": [
    "def deflate(data):\n",
    "    ..."
   ]
  },
  {
   "cell_type": "markdown",
   "metadata": {},
   "source": [
    "### Other"
   ]
  },
  {
   "cell_type": "code",
   "execution_count": 59,
   "metadata": {},
   "outputs": [],
   "source": [
    "def other(data):\n",
    "    ..."
   ]
  }
 ],
 "metadata": {
  "kernelspec": {
   "display_name": "Python 3",
   "language": "python",
   "name": "python3"
  },
  "language_info": {
   "codemirror_mode": {
    "name": "ipython",
    "version": 3
   },
   "file_extension": ".py",
   "mimetype": "text/x-python",
   "name": "python",
   "nbconvert_exporter": "python",
   "pygments_lexer": "ipython3",
   "version": "3.12.3"
  }
 },
 "nbformat": 4,
 "nbformat_minor": 2
}
