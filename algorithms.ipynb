{
 "cells": [
  {
   "cell_type": "markdown",
   "metadata": {},
   "source": [
    "# Compression algorithms"
   ]
  },
  {
   "cell_type": "markdown",
   "metadata": {},
   "source": [
    "### Huffman:"
   ]
  },
  {
   "cell_type": "code",
   "execution_count": 24,
   "metadata": {},
   "outputs": [],
   "source": [
    "def huffman(data):\n",
    "    ..."
   ]
  },
  {
   "cell_type": "markdown",
   "metadata": {},
   "source": [
    "### LZ77 / LZ78"
   ]
  },
  {
   "cell_type": "code",
   "execution_count": 25,
   "metadata": {},
   "outputs": [],
   "source": [
    "def lz77(data):\n",
    "    ...\n",
    "\n",
    "#or\n",
    "\n",
    "def lz78(data):\n",
    "    ..."
   ]
  },
  {
   "cell_type": "markdown",
   "metadata": {},
   "source": [
    "### LZW"
   ]
  },
  {
   "cell_type": "code",
   "execution_count": 26,
   "metadata": {},
   "outputs": [],
   "source": [
    "class LZW:\n",
    "    def encode(self, text:str) -> tuple[str, list]:\n",
    "        '''LZW encoding'''\n",
    "        output = []\n",
    "        w = ''\n",
    "        start_dictionary = {}\n",
    "        counter = 0\n",
    "        for letter in text:\n",
    "            if letter not in start_dictionary:\n",
    "                start_dictionary[letter] = counter\n",
    "                counter += 1\n",
    "        new_dictionary = start_dictionary.copy()\n",
    "        for letter in text:\n",
    "            if w + letter in new_dictionary:\n",
    "                w += letter\n",
    "            else:\n",
    "                new_dictionary.update({w + letter: max(new_dictionary.values())+1})\n",
    "                output.append(new_dictionary[w])\n",
    "                w = letter\n",
    "        output.append(new_dictionary[w])\n",
    "        return output, list(start_dictionary.keys())\n",
    "\n",
    "    def decode(self, code: list, coding_dict: list) -> str:\n",
    "        '''LZW decoding'''\n",
    "        coding_dict = {i:el for i,el in enumerate(coding_dict)}\n",
    "        string = coding_dict[code[0]]\n",
    "        output = ''\n",
    "        output += string\n",
    "        counter = max(coding_dict.keys()) + 1\n",
    "        for i in range(len(code)-1):\n",
    "            new = code[i + 1]\n",
    "            if new not in coding_dict:\n",
    "                entry = string + string[0]\n",
    "            else:\n",
    "                entry = coding_dict[new]\n",
    "            output += entry\n",
    "            coding_dict[counter] = string + entry[0]\n",
    "            counter += 1\n",
    "            string = entry\n",
    "        return output\n"
   ]
  },
  {
   "cell_type": "code",
   "execution_count": 27,
   "metadata": {},
   "outputs": [],
   "source": [
    "class LZW_binary:\n",
    "    name = 'lzw'\n",
    "    def encode(self, data: bytes) -> tuple[bytes, list]:\n",
    "        '''LZW encoding'''\n",
    "        output = []\n",
    "        w = b''\n",
    "        start_dictionary = {bytes([i]): i for i in range(256)}\n",
    "        new_dictionary = start_dictionary.copy()\n",
    "        for byte in data:\n",
    "            byte = bytes([byte])\n",
    "            if w + byte in new_dictionary:\n",
    "                w += byte\n",
    "            else:\n",
    "                new_dictionary[w + byte] = len(new_dictionary)\n",
    "                output.append(new_dictionary[w])\n",
    "                w = byte\n",
    "        output.append(new_dictionary[w])\n",
    "        return output, start_dictionary\n",
    "\n",
    "    def decode(self, code: bytes, coding_dict: dict) -> bytes:\n",
    "        '''LZW decoding'''\n",
    "        coding_dict = {v:k for k,v in coding_dict.items()}\n",
    "        string = coding_dict[code[0]]\n",
    "        output = bytearray()\n",
    "        output += string\n",
    "        for i in range(1, len(code)):\n",
    "            new = code[i]\n",
    "            if new not in coding_dict:\n",
    "                entry = string + string[0:1]\n",
    "            else:\n",
    "                entry = coding_dict[new]\n",
    "            output += entry\n",
    "            coding_dict[len(coding_dict)] = string + entry[0:1]\n",
    "            string = entry\n",
    "        return bytes(output)\n"
   ]
  },
  {
   "cell_type": "markdown",
   "metadata": {},
   "source": [
    "### Deflate"
   ]
  },
  {
   "cell_type": "code",
   "execution_count": 28,
   "metadata": {},
   "outputs": [],
   "source": [
    "def deflate(data):\n",
    "    ..."
   ]
  },
  {
   "cell_type": "markdown",
   "metadata": {},
   "source": [
    "### Other"
   ]
  },
  {
   "cell_type": "code",
   "execution_count": 29,
   "metadata": {},
   "outputs": [],
   "source": [
    "def other(data):\n",
    "    ..."
   ]
  },
  {
   "cell_type": "code",
   "execution_count": 33,
   "metadata": {},
   "outputs": [],
   "source": [
    "lzw = LZW_binary()\n",
    "'/home/gllekk/all_the_code/default/DISCRETE/compression_research/img_test_1.png'\n",
    "'/home/gllekk/all_the_code/default/DISCRETE/compression_research/img_test_1_after.lzw'\n",
    "def encoding(path:str, compress_algorithm:object):\n",
    "    with open(path, 'rb') as file:\n",
    "        image = file.read()\n",
    "    encoded_data, encoded_dict = compress_algorithm.encode(image)\n",
    "    file_type = path[len(path)-3:]\n",
    "    with open((path:=path[:-3]+compress_algorithm.name.lower()), 'wb') as file:\n",
    "        for value in encoded_data:\n",
    "            file.write(value.to_bytes(4, byteorder='big'))\n",
    "    return path, encoded_dict, file_type, compress_algorithm\n",
    "\n",
    "def decoding(path:str, start_dict:dict, f_type:str, compress_algorithm:object):\n",
    "    with open(path, 'rb') as file:\n",
    "        encoded_data = []\n",
    "        while (byte := file.read(4)):\n",
    "            encoded_data.append(int.from_bytes(byte, byteorder='big'))\n",
    "    decoded = compress_algorithm.decode(encoded_data, start_dict)\n",
    "\n",
    "    with open(path[:-4]+'_decoded.'+f_type, 'wb') as file:\n",
    "        file.write(decoded)\n",
    "\n",
    "enc = encoding('/home/gllekk/all_the_code/default/DISCRETE/compression_research/img_test_1.png', lzw)\n",
    "# enc = encoding('/home/gllekk/all_the_code/default/DISCRETE/compression_research/lorem.txt', 'lzw', lzw)\n",
    "# enc = encoding('/home/gllekk/all_the_code/default/DISCRETE/compression_research/mixkit-fast-rocket-whoosh-1714.wav', lzw)\n",
    "dec = decoding(enc[0], enc[1], enc[2], enc[3])"
   ]
  }
 ],
 "metadata": {
  "kernelspec": {
   "display_name": "Python 3",
   "language": "python",
   "name": "python3"
  },
  "language_info": {
   "codemirror_mode": {
    "name": "ipython",
    "version": 3
   },
   "file_extension": ".py",
   "mimetype": "text/x-python",
   "name": "python",
   "nbconvert_exporter": "python",
   "pygments_lexer": "ipython3",
   "version": "3.12.3"
  }
 },
 "nbformat": 4,
 "nbformat_minor": 2
}
